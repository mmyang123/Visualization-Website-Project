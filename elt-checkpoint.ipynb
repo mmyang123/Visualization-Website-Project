{
 "cells": [
  {
   "cell_type": "markdown",
   "id": "c19412e6",
   "metadata": {},
   "source": [
    "# Group 10\n",
    " \n",
    "## Group Members: Ilia, Mai, Martin, Ryan\n",
    "\n",
    "_______________________________________________________________________________________________________________________________ \n",
    " "
   ]
  },
  {
   "cell_type": "markdown",
   "id": "2b527eaf",
   "metadata": {},
   "source": [
    "# Overview\n",
    "\n",
    "Our group is using pandas to import two datasets to clean and transform them before loading them into PostgresSQL. The two datasets are a csv files from Kaggle, one is drinks.csv and the second one is unemployment analysis.csv. \n",
    "\n",
    "Since the data for drinks.csv is for the year 2010, we decided to clean the Unemployment Analysis.csv and select picked the year 2010. then merged the two datasets together to form the new dataframe. Both datasets showed 153 countries on alcohol consumption and unemployment rate.\n",
    "\n"
   ]
  },
  {
   "cell_type": "code",
   "execution_count": null,
   "id": "e5ef274b",
   "metadata": {},
   "outputs": [],
   "source": [
    "# Dependencies and Setup\n",
    "import pandas as pd\n",
    "import numpy as np\n",
    "from sqlalchemy import create_engine"
   ]
  },
  {
   "cell_type": "markdown",
   "id": "4d023e40",
   "metadata": {},
   "source": [
    "# Extract\n",
    "\n",
    "Our group imported two csv data, drinks.csv, and unemployment analysis.csv to use for this project. The two datasets were stored in our repository in the folder name data."
   ]
  },
  {
   "cell_type": "code",
   "execution_count": null,
   "id": "4477a4c9",
   "metadata": {},
   "outputs": [],
   "source": [
    "# Store file path in a variable\n",
    "drinks = \"data/drinks.csv\"\n",
    "unemployment = \"data/unemployment analysis.csv\""
   ]
  },
  {
   "cell_type": "code",
   "execution_count": null,
   "id": "d9ddc99a",
   "metadata": {},
   "outputs": [],
   "source": [
    "# Read our Data file with pandas library\n",
    "drinks_df = pd.read_csv(drinks)\n",
    "unemployment_df = pd.read_csv(unemployment)"
   ]
  },
  {
   "cell_type": "code",
   "execution_count": null,
   "id": "70516953",
   "metadata": {},
   "outputs": [],
   "source": [
    "# Show Drinks dataframe\n",
    "drinks_df\n"
   ]
  },
  {
   "cell_type": "code",
   "execution_count": null,
   "id": "9899d798",
   "metadata": {},
   "outputs": [],
   "source": [
    "# Show unemployment dataframe\n",
    "unemployment_df.rename(columns={'Country Name':'country'}, inplace=True)"
   ]
  },
  {
   "cell_type": "code",
   "execution_count": null,
   "id": "1eb5a3f4",
   "metadata": {},
   "outputs": [],
   "source": [
    "# Reference multiple columns within a dataframe\n",
    "cleaned_unemployment_df = unemployment_df[['country', 'Country Code', '2010']]"
   ]
  },
  {
   "cell_type": "code",
   "execution_count": null,
   "id": "50bd00cc",
   "metadata": {},
   "outputs": [],
   "source": [
    "# Show Cleaned Unemployment dataframe\n",
    "cleaned_unemployment_df"
   ]
  },
  {
   "cell_type": "code",
   "execution_count": null,
   "id": "7d4b826a",
   "metadata": {},
   "outputs": [],
   "source": [
    "# Merge the Drinks and unemployment dataframes\n",
    "cleaned_df = drinks_df.merge(cleaned_unemployment_df, how='inner', on='country')"
   ]
  },
  {
   "cell_type": "code",
   "execution_count": null,
   "id": "da417da3",
   "metadata": {},
   "outputs": [],
   "source": [
    "cleaned_df"
   ]
  },
  {
   "cell_type": "code",
   "execution_count": null,
   "id": "88825924",
   "metadata": {},
   "outputs": [],
   "source": []
  }
 ],
 "metadata": {
  "kernelspec": {
   "display_name": "Python 3 (ipykernel)",
   "language": "python",
   "name": "python3"
  },
  "language_info": {
   "codemirror_mode": {
    "name": "ipython",
    "version": 3
   },
   "file_extension": ".py",
   "mimetype": "text/x-python",
   "name": "python",
   "nbconvert_exporter": "python",
   "pygments_lexer": "ipython3",
   "version": "3.8.13"
  }
 },
 "nbformat": 4,
 "nbformat_minor": 5
}
